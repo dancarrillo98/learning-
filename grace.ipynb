{
 "cells": [
  {
   "cell_type": "raw",
   "metadata": {},
   "source": [
    "hi grace, welcome to python basics by dan! so the first thing we have to address is what IS code?  "
   ]
  },
  {
   "cell_type": "raw",
   "metadata": {},
   "source": [
    "but before we can do that, i need to tell you what ISNT code"
   ]
  },
  {
   "cell_type": "raw",
   "metadata": {},
   "source": [
    "a comment is a piece of english (or any human language) in code. when the computer 'reads' (called compiling) code, it ignores these bits of english. in python, the language we will be going through there are three ways to tell the computer its a comment"
   ]
  },
  {
   "cell_type": "code",
   "execution_count": 2,
   "metadata": {},
   "outputs": [
    {
     "data": {
      "text/plain": [
       "'\\nor three single line comments for the same thing\\n'"
      ]
     },
     "execution_count": 2,
     "metadata": {},
     "output_type": "execute_result"
    }
   ],
   "source": [
    "# use a pound for a comment that spans one line! \n",
    "\"\"\" \n",
    "use three quotes for \n",
    "a\n",
    "multiline\n",
    "comment\n",
    "\"\"\"\n",
    "'''\n",
    "or three single line comments for the same thing\n",
    "'''\n"
   ]
  },
  {
   "cell_type": "code",
   "execution_count": null,
   "metadata": {},
   "outputs": [],
   "source": [
    "why are there two ways to write a multiline comment "
   ]
  }
 ],
 "metadata": {
  "kernelspec": {
   "display_name": "Python 3",
   "language": "python",
   "name": "python3"
  },
  "language_info": {
   "codemirror_mode": {
    "name": "ipython",
    "version": 3
   },
   "file_extension": ".py",
   "mimetype": "text/x-python",
   "name": "python",
   "nbconvert_exporter": "python",
   "pygments_lexer": "ipython3",
   "version": "3.6.6+"
  }
 },
 "nbformat": 4,
 "nbformat_minor": 2
}
